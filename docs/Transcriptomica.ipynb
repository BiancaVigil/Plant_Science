{
 "cells": [
  {
   "cell_type": "markdown",
   "metadata": {},
   "source": [
    "[link paper](https://europepmc.org/article/MED/22319055)  \n",
    "[link GEO](https://www.ebi.ac.uk/gxa/experiments/E-GEOD-34476/Results)"
   ]
  },
  {
   "cell_type": "code",
   "execution_count": 2,
   "metadata": {},
   "outputs": [],
   "source": [
    "library(BiocManager)\n",
    "library(Rsubread)\n",
    "library(Rbowtie2)\n",
    "library(Rsamtools)\n",
    "library(dplyr)\n",
    "library(org.At.tair.db)\n",
    "library(pheatmap)\n",
    "library(GO.db)\n",
    "library(pathview)\n",
    "library(KEGGgraph)\n",
    "library(DESeq2)\n",
    "library(ggplot2)"
   ]
  },
  {
   "cell_type": "code",
   "execution_count": null,
   "metadata": {},
   "outputs": [],
   "source": []
  },
  {
   "cell_type": "code",
   "execution_count": 17,
   "metadata": {
    "scrolled": false
   },
   "outputs": [
    {
     "name": "stderr",
     "output_type": "stream",
     "text": [
      "arguments 'show.output.on.console', 'minimized' and 'invisible' are for Windows only\n",
      "\n"
     ]
    }
   ],
   "source": [
    "bowtie2_build(\"AthalianaChr4.fasta\", bt2Index = \"index/\" , overwrite = TRUE)"
   ]
  },
  {
   "cell_type": "code",
   "execution_count": 3,
   "metadata": {},
   "outputs": [
    {
     "name": "stderr",
     "output_type": "stream",
     "text": [
      "arguments 'show.output.on.console', 'minimized' and 'invisible' are for Windows only\n",
      "\n"
     ]
    }
   ],
   "source": [
    "bowtie2(bt2Index = \"index/\", \n",
    "        samOutput = \"SRR390310.sam\", \n",
    "        seq1 = \"SRR390310_1.fastq\", \n",
    "        seq2 = \"SRR390310_2.fastq\", \n",
    "        \"--threads=3\")"
   ]
  },
  {
   "cell_type": "code",
   "execution_count": 4,
   "metadata": {},
   "outputs": [
    {
     "data": {
      "text/html": [
       "'SRR390310.bam'"
      ],
      "text/latex": [
       "'SRR390310.bam'"
      ],
      "text/markdown": [
       "'SRR390310.bam'"
      ],
      "text/plain": [
       "[1] \"SRR390310.bam\""
      ]
     },
     "metadata": {},
     "output_type": "display_data"
    }
   ],
   "source": [
    "asBam(\"SRR390310.sam\")"
   ]
  },
  {
   "cell_type": "code",
   "execution_count": 3,
   "metadata": {},
   "outputs": [],
   "source": [
    "library(R.utils)"
   ]
  },
  {
   "cell_type": "code",
   "execution_count": null,
   "metadata": {},
   "outputs": [],
   "source": []
  },
  {
   "cell_type": "code",
   "execution_count": null,
   "metadata": {},
   "outputs": [],
   "source": [
    "bowtie2_build(\"dir_path_reference.fa\", bt2Index = \"dir_path_directory\", overwrite =TRUE)\n",
    "\n",
    "bowtie2(bt2Index = \"dir_path_directory\", \n",
    "        samOutput = \"file.sam\", \n",
    "        seq1 = \"fastq_1.fastq\", \n",
    "        seq2 = \"fastq_2.fastq\", \n",
    "        \"--threads=3\")\n",
    "\n",
    "asBam(\"file.sam\")\n",
    "\n",
    "library(Rsubread)\n",
    "\n",
    "file.show(\"file.gff3\")\n",
    "bamfiles <- list.files(path = \"star_bam\", pattern = \"*.bam$\", full.names = TRUE)\n",
    "\n",
    "data <- featureCounts( files = bamfiles, annot.ext = \"path_to_gff3\", \n",
    "                      isGTFAnnotation = TRUE, \n",
    "                      GTF.featureType = \"gene\", \n",
    "                      GTF.attrType = \"ID\", \n",
    "                      isPairedEnd = FALSE, \n",
    "                      requireBothEndsMapped = TRUE, \n",
    "                      minMQS = 20, \n",
    "                      strandSpecific = 2 )\n",
    "\n",
    "data$counts\n",
    "\n",
    "write.table(data$counts , file = \"raw_counts.txt\", sep = \"\\t\")\n",
    "\n",
    "\n"
   ]
  }
 ],
 "metadata": {
  "kernelspec": {
   "display_name": "R",
   "language": "R",
   "name": "ir"
  },
  "language_info": {
   "codemirror_mode": "r",
   "file_extension": ".r",
   "mimetype": "text/x-r-source",
   "name": "R",
   "pygments_lexer": "r",
   "version": "4.1.1"
  }
 },
 "nbformat": 4,
 "nbformat_minor": 4
}
